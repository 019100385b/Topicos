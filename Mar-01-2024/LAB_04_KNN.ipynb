{
  "nbformat": 4,
  "nbformat_minor": 0,
  "metadata": {
    "colab": {
      "provenance": []
    },
    "kernelspec": {
      "name": "python3",
      "display_name": "Python 3"
    },
    "language_info": {
      "name": "python"
    }
  },
  "cells": [
    {
      "cell_type": "markdown",
      "metadata": {
        "id": "_39yhHK5WiCL"
      },
      "source": [
        "# **K-Vecinos más cercanos**\n",
        "```\n",
        "Versión   : 1.2, Para uso educativo\n",
        "Autor     : Luis Beltran Palma Ttito\n",
        "Lugar     : Cusco, Perú, 2023.\n",
        "Proposito : K-NN en la clasificación de digitos manuscritos\n",
        "```"
      ]
    },
    {
      "cell_type": "markdown",
      "metadata": {
        "id": "UjiCrmpCWppx"
      },
      "source": [
        "# **1. PASO PREVIOS**"
      ]
    },
    {
      "cell_type": "markdown",
      "source": [
        "## Importación de librerías"
      ],
      "metadata": {
        "id": "lK_7VcTGjy-p"
      }
    },
    {
      "cell_type": "code",
      "metadata": {
        "id": "KEnttzhEWVK-"
      },
      "source": [
        "import numpy as np\n",
        "import matplotlib.pyplot as plt\n",
        "import pandas as pd\n",
        "import seaborn as sns\n",
        "import random\n",
        "\n",
        "# Librería: scikit learn, \"sklearn\"\n",
        "\n",
        "# Módulo train_test_split: separación de datos para entrenamiento y test\n",
        "from sklearn.model_selection import train_test_split\n",
        "# Módulo KNeighborsClassifier: Implementa K-NN para clasificación\n",
        "from sklearn.neighbors import KNeighborsClassifier\n",
        "# Módulo classification_report: Métricas\n",
        "from sklearn.metrics import classification_report\n",
        "# Módulo accuracy_score: metrica de exactitud\n",
        "from sklearn.metrics import accuracy_score\n",
        "# Módulo confusion_matrix: matriz de confusión\n",
        "from sklearn.metrics import confusion_matrix"
      ],
      "execution_count": null,
      "outputs": []
    },
    {
      "cell_type": "markdown",
      "metadata": {
        "id": "_5yQSixzLlu8"
      },
      "source": [
        "## Importación de datos"
      ]
    },
    {
      "cell_type": "code",
      "metadata": {
        "id": "VUvOTcUWY2pX",
        "colab": {
          "base_uri": "https://localhost:8080/",
          "height": 235
        },
        "outputId": "a1fc6573-dbd1-41b4-a983-820d0aa209e2"
      },
      "source": [
        "# leer el dataset\n",
        "datos = pd.read_csv(\"digito16x16.csv\", sep=',', header=0)\n",
        "# muestras los primero 5 valores\n",
        "datos.head()"
      ],
      "execution_count": null,
      "outputs": [
        {
          "output_type": "execute_result",
          "data": {
            "text/plain": [
              "   p1  p2  p3  p4  p5  p6  p7  p8  p9  p10  ...  p248  p249  p250  p251  p252  \\\n",
              "0   0   0   0   0   0   0   1   1   1    1  ...     0     0     0     0     0   \n",
              "1   0   0   0   0   0   1   1   1   1    1  ...     1     1     1     1     0   \n",
              "2   0   0   0   0   0   0   0   0   0    1  ...     0     0     0     0     0   \n",
              "3   0   0   0   0   0   0   1   1   1    1  ...     0     0     0     0     0   \n",
              "4   0   0   0   0   0   0   0   0   0    1  ...     0     0     0     0     0   \n",
              "\n",
              "   p253  p254  p255  p256  digito  \n",
              "0     0     0     0     0       0  \n",
              "1     0     0     0     0       0  \n",
              "2     0     0     0     0       0  \n",
              "3     0     0     0     0       0  \n",
              "4     0     0     0     0       0  \n",
              "\n",
              "[5 rows x 257 columns]"
            ],
            "text/html": [
              "\n",
              "  <div id=\"df-5f76cc78-9202-4a63-86bc-7c2a848b1a10\">\n",
              "    <div class=\"colab-df-container\">\n",
              "      <div>\n",
              "<style scoped>\n",
              "    .dataframe tbody tr th:only-of-type {\n",
              "        vertical-align: middle;\n",
              "    }\n",
              "\n",
              "    .dataframe tbody tr th {\n",
              "        vertical-align: top;\n",
              "    }\n",
              "\n",
              "    .dataframe thead th {\n",
              "        text-align: right;\n",
              "    }\n",
              "</style>\n",
              "<table border=\"1\" class=\"dataframe\">\n",
              "  <thead>\n",
              "    <tr style=\"text-align: right;\">\n",
              "      <th></th>\n",
              "      <th>p1</th>\n",
              "      <th>p2</th>\n",
              "      <th>p3</th>\n",
              "      <th>p4</th>\n",
              "      <th>p5</th>\n",
              "      <th>p6</th>\n",
              "      <th>p7</th>\n",
              "      <th>p8</th>\n",
              "      <th>p9</th>\n",
              "      <th>p10</th>\n",
              "      <th>...</th>\n",
              "      <th>p248</th>\n",
              "      <th>p249</th>\n",
              "      <th>p250</th>\n",
              "      <th>p251</th>\n",
              "      <th>p252</th>\n",
              "      <th>p253</th>\n",
              "      <th>p254</th>\n",
              "      <th>p255</th>\n",
              "      <th>p256</th>\n",
              "      <th>digito</th>\n",
              "    </tr>\n",
              "  </thead>\n",
              "  <tbody>\n",
              "    <tr>\n",
              "      <th>0</th>\n",
              "      <td>0</td>\n",
              "      <td>0</td>\n",
              "      <td>0</td>\n",
              "      <td>0</td>\n",
              "      <td>0</td>\n",
              "      <td>0</td>\n",
              "      <td>1</td>\n",
              "      <td>1</td>\n",
              "      <td>1</td>\n",
              "      <td>1</td>\n",
              "      <td>...</td>\n",
              "      <td>0</td>\n",
              "      <td>0</td>\n",
              "      <td>0</td>\n",
              "      <td>0</td>\n",
              "      <td>0</td>\n",
              "      <td>0</td>\n",
              "      <td>0</td>\n",
              "      <td>0</td>\n",
              "      <td>0</td>\n",
              "      <td>0</td>\n",
              "    </tr>\n",
              "    <tr>\n",
              "      <th>1</th>\n",
              "      <td>0</td>\n",
              "      <td>0</td>\n",
              "      <td>0</td>\n",
              "      <td>0</td>\n",
              "      <td>0</td>\n",
              "      <td>1</td>\n",
              "      <td>1</td>\n",
              "      <td>1</td>\n",
              "      <td>1</td>\n",
              "      <td>1</td>\n",
              "      <td>...</td>\n",
              "      <td>1</td>\n",
              "      <td>1</td>\n",
              "      <td>1</td>\n",
              "      <td>1</td>\n",
              "      <td>0</td>\n",
              "      <td>0</td>\n",
              "      <td>0</td>\n",
              "      <td>0</td>\n",
              "      <td>0</td>\n",
              "      <td>0</td>\n",
              "    </tr>\n",
              "    <tr>\n",
              "      <th>2</th>\n",
              "      <td>0</td>\n",
              "      <td>0</td>\n",
              "      <td>0</td>\n",
              "      <td>0</td>\n",
              "      <td>0</td>\n",
              "      <td>0</td>\n",
              "      <td>0</td>\n",
              "      <td>0</td>\n",
              "      <td>0</td>\n",
              "      <td>1</td>\n",
              "      <td>...</td>\n",
              "      <td>0</td>\n",
              "      <td>0</td>\n",
              "      <td>0</td>\n",
              "      <td>0</td>\n",
              "      <td>0</td>\n",
              "      <td>0</td>\n",
              "      <td>0</td>\n",
              "      <td>0</td>\n",
              "      <td>0</td>\n",
              "      <td>0</td>\n",
              "    </tr>\n",
              "    <tr>\n",
              "      <th>3</th>\n",
              "      <td>0</td>\n",
              "      <td>0</td>\n",
              "      <td>0</td>\n",
              "      <td>0</td>\n",
              "      <td>0</td>\n",
              "      <td>0</td>\n",
              "      <td>1</td>\n",
              "      <td>1</td>\n",
              "      <td>1</td>\n",
              "      <td>1</td>\n",
              "      <td>...</td>\n",
              "      <td>0</td>\n",
              "      <td>0</td>\n",
              "      <td>0</td>\n",
              "      <td>0</td>\n",
              "      <td>0</td>\n",
              "      <td>0</td>\n",
              "      <td>0</td>\n",
              "      <td>0</td>\n",
              "      <td>0</td>\n",
              "      <td>0</td>\n",
              "    </tr>\n",
              "    <tr>\n",
              "      <th>4</th>\n",
              "      <td>0</td>\n",
              "      <td>0</td>\n",
              "      <td>0</td>\n",
              "      <td>0</td>\n",
              "      <td>0</td>\n",
              "      <td>0</td>\n",
              "      <td>0</td>\n",
              "      <td>0</td>\n",
              "      <td>0</td>\n",
              "      <td>1</td>\n",
              "      <td>...</td>\n",
              "      <td>0</td>\n",
              "      <td>0</td>\n",
              "      <td>0</td>\n",
              "      <td>0</td>\n",
              "      <td>0</td>\n",
              "      <td>0</td>\n",
              "      <td>0</td>\n",
              "      <td>0</td>\n",
              "      <td>0</td>\n",
              "      <td>0</td>\n",
              "    </tr>\n",
              "  </tbody>\n",
              "</table>\n",
              "<p>5 rows × 257 columns</p>\n",
              "</div>\n",
              "      <button class=\"colab-df-convert\" onclick=\"convertToInteractive('df-5f76cc78-9202-4a63-86bc-7c2a848b1a10')\"\n",
              "              title=\"Convert this dataframe to an interactive table.\"\n",
              "              style=\"display:none;\">\n",
              "        \n",
              "  <svg xmlns=\"http://www.w3.org/2000/svg\" height=\"24px\"viewBox=\"0 0 24 24\"\n",
              "       width=\"24px\">\n",
              "    <path d=\"M0 0h24v24H0V0z\" fill=\"none\"/>\n",
              "    <path d=\"M18.56 5.44l.94 2.06.94-2.06 2.06-.94-2.06-.94-.94-2.06-.94 2.06-2.06.94zm-11 1L8.5 8.5l.94-2.06 2.06-.94-2.06-.94L8.5 2.5l-.94 2.06-2.06.94zm10 10l.94 2.06.94-2.06 2.06-.94-2.06-.94-.94-2.06-.94 2.06-2.06.94z\"/><path d=\"M17.41 7.96l-1.37-1.37c-.4-.4-.92-.59-1.43-.59-.52 0-1.04.2-1.43.59L10.3 9.45l-7.72 7.72c-.78.78-.78 2.05 0 2.83L4 21.41c.39.39.9.59 1.41.59.51 0 1.02-.2 1.41-.59l7.78-7.78 2.81-2.81c.8-.78.8-2.07 0-2.86zM5.41 20L4 18.59l7.72-7.72 1.47 1.35L5.41 20z\"/>\n",
              "  </svg>\n",
              "      </button>\n",
              "      \n",
              "  <style>\n",
              "    .colab-df-container {\n",
              "      display:flex;\n",
              "      flex-wrap:wrap;\n",
              "      gap: 12px;\n",
              "    }\n",
              "\n",
              "    .colab-df-convert {\n",
              "      background-color: #E8F0FE;\n",
              "      border: none;\n",
              "      border-radius: 50%;\n",
              "      cursor: pointer;\n",
              "      display: none;\n",
              "      fill: #1967D2;\n",
              "      height: 32px;\n",
              "      padding: 0 0 0 0;\n",
              "      width: 32px;\n",
              "    }\n",
              "\n",
              "    .colab-df-convert:hover {\n",
              "      background-color: #E2EBFA;\n",
              "      box-shadow: 0px 1px 2px rgba(60, 64, 67, 0.3), 0px 1px 3px 1px rgba(60, 64, 67, 0.15);\n",
              "      fill: #174EA6;\n",
              "    }\n",
              "\n",
              "    [theme=dark] .colab-df-convert {\n",
              "      background-color: #3B4455;\n",
              "      fill: #D2E3FC;\n",
              "    }\n",
              "\n",
              "    [theme=dark] .colab-df-convert:hover {\n",
              "      background-color: #434B5C;\n",
              "      box-shadow: 0px 1px 3px 1px rgba(0, 0, 0, 0.15);\n",
              "      filter: drop-shadow(0px 1px 2px rgba(0, 0, 0, 0.3));\n",
              "      fill: #FFFFFF;\n",
              "    }\n",
              "  </style>\n",
              "\n",
              "      <script>\n",
              "        const buttonEl =\n",
              "          document.querySelector('#df-5f76cc78-9202-4a63-86bc-7c2a848b1a10 button.colab-df-convert');\n",
              "        buttonEl.style.display =\n",
              "          google.colab.kernel.accessAllowed ? 'block' : 'none';\n",
              "\n",
              "        async function convertToInteractive(key) {\n",
              "          const element = document.querySelector('#df-5f76cc78-9202-4a63-86bc-7c2a848b1a10');\n",
              "          const dataTable =\n",
              "            await google.colab.kernel.invokeFunction('convertToInteractive',\n",
              "                                                     [key], {});\n",
              "          if (!dataTable) return;\n",
              "\n",
              "          const docLinkHtml = 'Like what you see? Visit the ' +\n",
              "            '<a target=\"_blank\" href=https://colab.research.google.com/notebooks/data_table.ipynb>data table notebook</a>'\n",
              "            + ' to learn more about interactive tables.';\n",
              "          element.innerHTML = '';\n",
              "          dataTable['output_type'] = 'display_data';\n",
              "          await google.colab.output.renderOutput(dataTable, element);\n",
              "          const docLink = document.createElement('div');\n",
              "          docLink.innerHTML = docLinkHtml;\n",
              "          element.appendChild(docLink);\n",
              "        }\n",
              "      </script>\n",
              "    </div>\n",
              "  </div>\n",
              "  "
            ]
          },
          "metadata": {},
          "execution_count": 17
        }
      ]
    },
    {
      "cell_type": "code",
      "source": [
        "len(datos)"
      ],
      "metadata": {
        "colab": {
          "base_uri": "https://localhost:8080/"
        },
        "id": "kekJ0dnDP1EI",
        "outputId": "9f53a175-90d5-486a-8df8-b2bef43c6edc"
      },
      "execution_count": null,
      "outputs": [
        {
          "output_type": "execute_result",
          "data": {
            "text/plain": [
              "1593"
            ]
          },
          "metadata": {},
          "execution_count": 18
        }
      ]
    },
    {
      "cell_type": "code",
      "source": [
        "datos.info()"
      ],
      "metadata": {
        "colab": {
          "base_uri": "https://localhost:8080/"
        },
        "id": "5YojN7QsP5pZ",
        "outputId": "e12fd3aa-7606-4bcb-9bf9-c5c985990c89"
      },
      "execution_count": null,
      "outputs": [
        {
          "output_type": "stream",
          "name": "stdout",
          "text": [
            "<class 'pandas.core.frame.DataFrame'>\n",
            "RangeIndex: 1593 entries, 0 to 1592\n",
            "Columns: 257 entries, p1 to digito\n",
            "dtypes: int64(257)\n",
            "memory usage: 3.1 MB\n"
          ]
        }
      ]
    },
    {
      "cell_type": "markdown",
      "metadata": {
        "id": "yGSeUmMfwyu7"
      },
      "source": [
        "## Distribución de clases"
      ]
    },
    {
      "cell_type": "code",
      "metadata": {
        "colab": {
          "base_uri": "https://localhost:8080/",
          "height": 428
        },
        "id": "2MTbMfgJoFgn",
        "outputId": "89ae7095-05cc-4bd6-8d3a-6acde927e2ef"
      },
      "source": [
        "# mostrar distribución de clases mediante un gráfico de pye\n",
        "distribucion = datos.groupby('digito').size()\n",
        "plt.pie(distribucion, labels = ['cero','uno','dos', 'tres','cuatro','cinco','seis','siete','ocho','nueve'], autopct=\"%0.1f %%\")\n",
        "plt.title('Distribución de clases')\n",
        "plt.show()\n"
      ],
      "execution_count": null,
      "outputs": [
        {
          "output_type": "display_data",
          "data": {
            "text/plain": [
              "<Figure size 640x480 with 1 Axes>"
            ],
            "image/png": "[encoded data removed]"
          },
          "metadata": {}
        }
      ]
    },
    {
      "cell_type": "markdown",
      "source": [
        "## Visualización de datos"
      ],
      "metadata": {
        "id": "J33bpCoYnv_7"
      }
    },
    {
      "cell_type": "code",
      "source": [
        "#visualizar algunos datos aleatoriamente\n",
        "X = datos.drop(['digito'], axis=1)\n",
        "y = datos['digito']\n",
        "\n",
        "ran = datos.shape[0]-1\n",
        "fig, ax = plt.subplots(3, 10, figsize=(8,4))\n",
        "for k in range(3):\n",
        "    for j in range(10):\n",
        "        azar = random.sample(range(ran),1)\n",
        "        img = np.array(X.iloc[azar].values)\n",
        "        img = np.array(img).reshape(16,16)\n",
        "        ax[k,j].imshow(img)\n",
        "        ax[k,j].set_xlabel(y[azar[0]])\n",
        "plt.show()"
      ],
      "metadata": {
        "colab": {
          "base_uri": "https://localhost:8080/",
          "height": 354
        },
        "id": "lzf2_9TnnvSv",
        "outputId": "8304b6b3-6f7b-4f49-8489-6d2d402ec1de"
      },
      "execution_count": null,
      "outputs": [
        {
          "output_type": "display_data",
          "data": {
            "text/plain": [
              "<Figure size 800x400 with 30 Axes>"
            ],
            "image/png": "[encoded data removed]"
          },
          "metadata": {}
        }
      ]
    },
    {
      "cell_type": "markdown",
      "metadata": {
        "id": "eWGrNlJmxC5m"
      },
      "source": [
        "# **2. SEPARACIÓN DE DATOS PARA TRAINIG Y TESTING**"
      ]
    },
    {
      "cell_type": "code",
      "metadata": {
        "id": "IbsXWKs9ojH_"
      },
      "source": [
        "# Separación de datos en entrada y salida\n",
        "X = datos.drop(['digito'], axis=1)\n",
        "y = datos['digito']\n",
        "\n",
        "# Separación de datos para entrenamiento y test\n",
        "X_train, X_test, y_train, y_test = train_test_split(X, y, test_size = 0.30, random_state=5)"
      ],
      "execution_count": null,
      "outputs": []
    },
    {
      "cell_type": "markdown",
      "metadata": {
        "id": "CF-98WhcfY6v"
      },
      "source": [
        "# **3. ENTRENAMIENTO Y TEST DE K-NN**"
      ]
    },
    {
      "cell_type": "code",
      "metadata": {
        "colab": {
          "base_uri": "https://localhost:8080/"
        },
        "id": "CGOKUaNAc53S",
        "outputId": "3af08bd1-a8da-4b77-a82a-fd22b3d13a37"
      },
      "source": [
        "# Definición del modelo\n",
        "k=5\n",
        "Modelo = KNeighborsClassifier(n_neighbors = k)\n",
        "# Entrenamiento del modelo\n",
        "Modelo.fit(X_train, y_train)\n",
        "# Test del modelo\n",
        "Exactitud = Modelo.score(X_test, y_test)\n",
        "print('Exactitud de K-NN (k=',k, '):', Exactitud)"
      ],
      "execution_count": null,
      "outputs": [
        {
          "output_type": "stream",
          "name": "stdout",
          "text": [
            "Exactitud de K-NN (k= 5 ): 0.891213389121339\n"
          ]
        }
      ]
    },
    {
      "cell_type": "markdown",
      "metadata": {
        "id": "RjyX1pDnyGCT"
      },
      "source": [
        "## Matriz de confusión y exactitud"
      ]
    },
    {
      "cell_type": "code",
      "metadata": {
        "colab": {
          "base_uri": "https://localhost:8080/"
        },
        "id": "SV3f5dtszAi9",
        "outputId": "d9430119-10ae-43be-a3fa-7fda20dd1570"
      },
      "source": [
        "# Test del modelo\n",
        "pred = Modelo.predict(X_test)\n",
        "# Matriz de confusión\n",
        "matriz = confusion_matrix(y_test, pred)\n",
        "print(matriz)"
      ],
      "execution_count": null,
      "outputs": [
        {
          "output_type": "stream",
          "name": "stdout",
          "text": [
            "[[52  0  0  0  0  0  1  0  0  0]\n",
            " [ 0 40  0  0  0  0  0  0  0  0]\n",
            " [ 0  0 42  0  1  0  0  1  0  0]\n",
            " [ 0  0  1 41  0  0  0  0  1  1]\n",
            " [ 0  4  0  0 41  0  0  0  0  0]\n",
            " [ 1  0  0  0  0 47  1  0  0  1]\n",
            " [ 2  0  0  0  0  1 55  0  0  0]\n",
            " [ 0  4  0  0  0  0  0 44  0  0]\n",
            " [ 0  2  4  3  0  2  1  0 26  1]\n",
            " [ 2  2  0  2  4  7  1  0  1 38]]\n"
          ]
        }
      ]
    },
    {
      "cell_type": "code",
      "source": [
        "#visualización de la matriz de confusión como un mapa de calor\n",
        "categorias = ['cero','uno','dos', 'tres','cuatro','cinco','seis','siete','ocho','nueve']\n",
        "sns.heatmap(matriz, yticklabels=categorias, xticklabels=categorias)"
      ],
      "metadata": {
        "colab": {
          "base_uri": "https://localhost:8080/",
          "height": 477
        },
        "id": "L-PiacVpTGW9",
        "outputId": "9c0fabd2-f32e-4820-91bb-f1667efcbf27"
      },
      "execution_count": null,
      "outputs": [
        {
          "output_type": "execute_result",
          "data": {
            "text/plain": [
              "<Axes: >"
            ]
          },
          "metadata": {},
          "execution_count": 8
        },
        {
          "output_type": "display_data",
          "data": {
            "text/plain": [
              "<Figure size 640x480 with 2 Axes>"
            ],
            "image/png": "[encoded data removed]"
          },
          "metadata": {}
        }
      ]
    },
    {
      "cell_type": "code",
      "metadata": {
        "colab": {
          "base_uri": "https://localhost:8080/"
        },
        "id": "aExQgcl7zIzu",
        "outputId": "a6991381-3d3b-4f34-cd05-d9a3ad8a1fad"
      },
      "source": [
        "from sklearn.metrics import accuracy_score\n",
        "# Cálculo de acurracy (exactitud)\n",
        "accuracy = accuracy_score(y_test, pred)\n",
        "print('Exactitud: ',accuracy)"
      ],
      "execution_count": null,
      "outputs": [
        {
          "output_type": "stream",
          "name": "stdout",
          "text": [
            "Exactitud:  0.891213389121339\n"
          ]
        }
      ]
    },
    {
      "cell_type": "code",
      "source": [
        "from sklearn.metrics import classification_report\n",
        "\n",
        "# Cálculo de las métricas\n",
        "report = classification_report(y_test, pred)\n",
        "\n",
        "# Mostrar las métricas\n",
        "print(\"Métricas de evaluación:\")\n",
        "print(report)"
      ],
      "metadata": {
        "colab": {
          "base_uri": "https://localhost:8080/"
        },
        "id": "7nNFAgtOcqJk",
        "outputId": "a58e8009-2d84-4258-a421-c4e6d7b4f2ab"
      },
      "execution_count": null,
      "outputs": [
        {
          "output_type": "stream",
          "name": "stdout",
          "text": [
            "Métricas de evaluación:\n",
            "              precision    recall  f1-score   support\n",
            "\n",
            "           0       0.91      0.98      0.95        53\n",
            "           1       0.77      1.00      0.87        40\n",
            "           2       0.89      0.95      0.92        44\n",
            "           3       0.89      0.93      0.91        44\n",
            "           4       0.89      0.91      0.90        45\n",
            "           5       0.82      0.94      0.88        50\n",
            "           6       0.93      0.95      0.94        58\n",
            "           7       0.98      0.92      0.95        48\n",
            "           8       0.93      0.67      0.78        39\n",
            "           9       0.93      0.67      0.78        57\n",
            "\n",
            "    accuracy                           0.89       478\n",
            "   macro avg       0.89      0.89      0.89       478\n",
            "weighted avg       0.90      0.89      0.89       478\n",
            "\n"
          ]
        }
      ]
    },
    {
      "cell_type": "markdown",
      "metadata": {
        "id": "GOTVHQ0-zc2d"
      },
      "source": [
        "# **4. PREDICCIÓN DE NUEVOS CASOS**"
      ]
    },
    {
      "cell_type": "code",
      "source": [
        "nuevo = np.array([[0,0,0,0,0,0,0,0,1,1,1,1,1,1,1,1,\n",
        "                   0,0,0,0,0,0,0,1,1,1,1,1,1,0,1,1,\n",
        "                   0,0,0,0,0,0,1,1,1,0,0,0,0,0,1,1,\n",
        "                   0,0,0,0,0,1,1,1,1,0,0,0,0,0,1,0,\n",
        "                   0,0,0,0,1,1,1,0,0,0,0,0,0,0,0,0,\n",
        "                   0,0,0,1,1,1,0,1,0,1,0,1,0,0,0,0,\n",
        "                   0,0,1,1,1,0,0,0,0,0,0,0,0,0,0,0,\n",
        "                   0,0,1,1,0,0,0,1,1,1,0,0,0,0,0,0,\n",
        "                   0,1,1,1,0,1,1,1,1,1,1,1,1,1,1,0,\n",
        "                   1,1,1,1,1,1,1,0,0,0,0,0,0,1,1,0,\n",
        "                   1,1,1,1,1,0,0,0,0,0,0,0,0,1,1,1,\n",
        "                   1,1,1,0,0,0,0,0,0,0,0,0,0,1,1,0,\n",
        "                   1,1,1,0,0,0,0,0,0,0,0,0,1,1,1,0,\n",
        "                   1,1,1,1,0,0,0,0,0,0,1,1,1,1,0,0,\n",
        "                   1,1,1,0,1,1,1,0,1,1,1,1,0,0,0,0,\n",
        "                   0,1,1,1,1,1,1,0,0,0,1,0,0,0,0,0]])"
      ],
      "metadata": {
        "id": "sDI-LKTLnUwp"
      },
      "execution_count": null,
      "outputs": []
    },
    {
      "cell_type": "code",
      "source": [],
      "metadata": {
        "id": "QXMfpeY3meFk"
      },
      "execution_count": null,
      "outputs": []
    },
    {
      "cell_type": "code",
      "metadata": {
        "colab": {
          "base_uri": "https://localhost:8080/"
        },
        "id": "3IUEtn4fc9py",
        "outputId": "a220289f-7c38-4d2e-f751-22d89b999225"
      },
      "source": [
        "y_pred = Modelo.predict(nuevo)\n",
        "# mostrar el resultado de la clasificación del dígito\n",
        "print('El dígito es: ',y_pred[0])"
      ],
      "execution_count": null,
      "outputs": [
        {
          "output_type": "stream",
          "name": "stdout",
          "text": [
            "El dígito es:  6\n"
          ]
        },
        {
          "output_type": "stream",
          "name": "stderr",
          "text": [
            "/usr/local/lib/python3.10/dist-packages/sklearn/base.py:439: UserWarning: X does not have valid feature names, but KNeighborsClassifier was fitted with feature names\n",
            "  warnings.warn(\n"
          ]
        }
      ]
    },
    {
      "cell_type": "markdown",
      "metadata": {
        "id": "6AO_PzwJ_2-h"
      },
      "source": [
        "# **4. PRÁCTICA**\n",
        "\n",
        "\n",
        "Aplicar el algoritmo k-NN para clasificar expresiones faciales de **fer2013.csv**.\n"
      ]
    }
  ]
}